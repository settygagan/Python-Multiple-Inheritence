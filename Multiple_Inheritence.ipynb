{
  "nbformat": 4,
  "nbformat_minor": 0,
  "metadata": {
    "colab": {
      "provenance": []
    },
    "kernelspec": {
      "name": "python3",
      "display_name": "Python 3"
    },
    "language_info": {
      "name": "python"
    }
  },
  "cells": [
    {
      "cell_type": "markdown",
      "source": [
        "Create a class normal room contains method calculates() which take no_rooms,days as parameter used to calculate the room rent."
      ],
      "metadata": {
        "id": "Ww2dTFxfv9h5"
      }
    },
    {
      "cell_type": "code",
      "source": [
        "class NormalRoom:\n",
        "    def calculate(self, no_rooms, days):\n",
        "        if days == 1:\n",
        "            rent_per_room = 300\n",
        "        elif 1 < days <= 5:\n",
        "            rent_per_room = 250\n",
        "        else:\n",
        "            rent_per_room = 200\n",
        "        return no_rooms * days * rent_per_room\n",
        "\n",
        "\n",
        "class ACRoom:\n",
        "    def AC_calculate(self, no_rooms, days):\n",
        "        if days == 1:\n",
        "            rent_per_room = 450\n",
        "        elif 1 < days <= 5:\n",
        "            rent_per_room = 300\n",
        "        else:\n",
        "            rent_per_room = 250\n",
        "        return no_rooms * days * rent_per_room\n",
        "\n",
        "\n",
        "class SuiteRoom:\n",
        "    def suite_calculate(self, no_rooms, days):\n",
        "        if days == 1:\n",
        "            rent_per_room = 550\n",
        "        elif 1 < days <= 5:\n",
        "            rent_per_room = 500\n",
        "        else:\n",
        "            rent_per_room = 450\n",
        "        return no_rooms * days * rent_per_room\n",
        "\n",
        "\n",
        "class Hotel(NormalRoom, ACRoom, SuiteRoom):\n",
        "    def display(self, name, address, mobile_number):\n",
        "        print(\"\\n--- Hotel Booking Details ---\")\n",
        "        print(f\"Name: {name}\")\n",
        "        print(f\"Address: {address}\")\n",
        "        print(f\"Mobile Number: {mobile_number}\")\n",
        "\n",
        "\n",
        "\n",
        "\n",
        "\n",
        "    name = input(\"Enter your name: \")\n",
        "    address = input(\"Enter your address: \")\n",
        "    mobile_number = input(\"Enter your mobile number: \")\n",
        "\n",
        "    if __name__ ==\"main\":\n",
        "      hotel=Hotel(name,address,mobile_number)\n",
        "\n",
        "    print(\"\\nSelect Room Type:\")\n",
        "    print(\"1. Normal Room\")\n",
        "    print(\"2. AC Room\")\n",
        "    print(\"3. Suite Room\")\n",
        "\n",
        "\n",
        "    room_type = int(input(\"Enter room type (1/2/3): \"))\n",
        "    no_rooms = int(input(\"Enter the number of rooms: \"))\n",
        "    days = int(input(\"Enter the number of days: \"))\n",
        "\n",
        "\n",
        "    if room_type == 1:\n",
        "        rent = hotel.calculate(no_rooms, days)\n",
        "        room_name = \"Normal Room\"\n",
        "    elif room_type == 2:\n",
        "        rent = hotel.AC_calculate(no_rooms, days)\n",
        "        room_name = \"AC Room\"\n",
        "    elif room_type == 3:\n",
        "        rent = hotel.suite_calculate(no_rooms, days)\n",
        "        room_name = \"Suite Room\"\n",
        "    else:\n",
        "        print(\"Invalid room type selected!\")\n",
        "        exit()\n",
        "\n",
        "\n",
        "    hotel.display(name, address, mobile_number)\n",
        "    print(f\"Room Type: {room_name}\")\n",
        "    print(f\"Number of Rooms: {no_rooms}\")\n",
        "    print(f\"Number of Days: {days}\")\n",
        "    print(f\"Total Rent: {rent} INR\")"
      ],
      "metadata": {
        "id": "x9af9EymuG3N",
        "colab": {
          "base_uri": "https://localhost:8080/",
          "height": 513
        },
        "outputId": "3dba1790-19cb-4ae3-d026-d669452f61dd"
      },
      "execution_count": null,
      "outputs": [
        {
          "name": "stdout",
          "output_type": "stream",
          "text": [
            "Enter your name: Gangadhar\n",
            "Enter your address: Koramangala\n",
            "Enter your mobile number: 9148098421\n",
            "\n",
            "Select Room Type:\n",
            "1. Normal Room\n",
            "2. AC Room\n",
            "3. Suite Room\n",
            "Enter room type (1/2/3): 2\n",
            "Enter the number of rooms: 1\n",
            "Enter the number of days: 1\n"
          ]
        },
        {
          "output_type": "error",
          "ename": "NameError",
          "evalue": "name 'hotel' is not defined",
          "traceback": [
            "\u001b[0;31m---------------------------------------------------------------------------\u001b[0m",
            "\u001b[0;31mNameError\u001b[0m                                 Traceback (most recent call last)",
            "\u001b[0;32m<ipython-input-9-08cc0bd03deb>\u001b[0m in \u001b[0;36m<cell line: 34>\u001b[0;34m()\u001b[0m\n\u001b[1;32m     32\u001b[0m \u001b[0;34m\u001b[0m\u001b[0m\n\u001b[1;32m     33\u001b[0m \u001b[0;34m\u001b[0m\u001b[0m\n\u001b[0;32m---> 34\u001b[0;31m \u001b[0;32mclass\u001b[0m \u001b[0mHotel\u001b[0m\u001b[0;34m(\u001b[0m\u001b[0mNormalRoom\u001b[0m\u001b[0;34m,\u001b[0m \u001b[0mACRoom\u001b[0m\u001b[0;34m,\u001b[0m \u001b[0mSuiteRoom\u001b[0m\u001b[0;34m)\u001b[0m\u001b[0;34m:\u001b[0m\u001b[0;34m\u001b[0m\u001b[0;34m\u001b[0m\u001b[0m\n\u001b[0m\u001b[1;32m     35\u001b[0m     \u001b[0;32mdef\u001b[0m \u001b[0mdisplay\u001b[0m\u001b[0;34m(\u001b[0m\u001b[0mself\u001b[0m\u001b[0;34m,\u001b[0m \u001b[0mname\u001b[0m\u001b[0;34m,\u001b[0m \u001b[0maddress\u001b[0m\u001b[0;34m,\u001b[0m \u001b[0mmobile_number\u001b[0m\u001b[0;34m)\u001b[0m\u001b[0;34m:\u001b[0m\u001b[0;34m\u001b[0m\u001b[0;34m\u001b[0m\u001b[0m\n\u001b[1;32m     36\u001b[0m         \u001b[0mprint\u001b[0m\u001b[0;34m(\u001b[0m\u001b[0;34m\"\\n--- Hotel Booking Details ---\"\u001b[0m\u001b[0;34m)\u001b[0m\u001b[0;34m\u001b[0m\u001b[0;34m\u001b[0m\u001b[0m\n",
            "\u001b[0;32m<ipython-input-9-08cc0bd03deb>\u001b[0m in \u001b[0;36mHotel\u001b[0;34m()\u001b[0m\n\u001b[1;32m     65\u001b[0m         \u001b[0mroom_name\u001b[0m \u001b[0;34m=\u001b[0m \u001b[0;34m\"Normal Room\"\u001b[0m\u001b[0;34m\u001b[0m\u001b[0;34m\u001b[0m\u001b[0m\n\u001b[1;32m     66\u001b[0m     \u001b[0;32melif\u001b[0m \u001b[0mroom_type\u001b[0m \u001b[0;34m==\u001b[0m \u001b[0;36m2\u001b[0m\u001b[0;34m:\u001b[0m\u001b[0;34m\u001b[0m\u001b[0;34m\u001b[0m\u001b[0m\n\u001b[0;32m---> 67\u001b[0;31m         \u001b[0mrent\u001b[0m \u001b[0;34m=\u001b[0m \u001b[0mhotel\u001b[0m\u001b[0;34m.\u001b[0m\u001b[0mAC_calculate\u001b[0m\u001b[0;34m(\u001b[0m\u001b[0mno_rooms\u001b[0m\u001b[0;34m,\u001b[0m \u001b[0mdays\u001b[0m\u001b[0;34m)\u001b[0m\u001b[0;34m\u001b[0m\u001b[0;34m\u001b[0m\u001b[0m\n\u001b[0m\u001b[1;32m     68\u001b[0m         \u001b[0mroom_name\u001b[0m \u001b[0;34m=\u001b[0m \u001b[0;34m\"AC Room\"\u001b[0m\u001b[0;34m\u001b[0m\u001b[0;34m\u001b[0m\u001b[0m\n\u001b[1;32m     69\u001b[0m     \u001b[0;32melif\u001b[0m \u001b[0mroom_type\u001b[0m \u001b[0;34m==\u001b[0m \u001b[0;36m3\u001b[0m\u001b[0;34m:\u001b[0m\u001b[0;34m\u001b[0m\u001b[0;34m\u001b[0m\u001b[0m\n",
            "\u001b[0;31mNameError\u001b[0m: name 'hotel' is not defined"
          ]
        }
      ]
    },
    {
      "cell_type": "code",
      "source": [
        "class NormalRoom():\n",
        "    def calculates(self, no_rooms, days):\n",
        "        self.no_rooms = no_rooms\n",
        "        self.days = days\n",
        "        if days == 1:\n",
        "            rent = no_rooms*300*1\n",
        "        elif days>1 and days<=5:\n",
        "            rent = no_rooms*250*days\n",
        "        else:\n",
        "            rent = no_rooms*200*days\n",
        "        print(\"Room Rent =\",rent)\n",
        "\n",
        "        total_rent = no_rooms * days * rent_per_day\n",
        "        return total_rent\n",
        "\n",
        "# Example usage\n",
        "room = NormalRoom()\n",
        "print(\"Total Rent:\", room.calculates(2, 3))  # 2 rooms for 3 days"
      ],
      "metadata": {
        "colab": {
          "base_uri": "https://localhost:8080/"
        },
        "id": "eUrcNQstufrK",
        "outputId": "45237bee-ec0a-47a6-bef8-5b65038af5e1"
      },
      "execution_count": null,
      "outputs": [
        {
          "output_type": "stream",
          "name": "stdout",
          "text": [
            "Total Rent: 1500\n"
          ]
        }
      ]
    },
    {
      "cell_type": "code",
      "source": [
        "class Person():\n",
        "    def __init__(self):\n",
        "        super().__init__()\n",
        "        self.name=name\n",
        "        self.Id=Id\n",
        "\n",
        "    def display(self):\n",
        "        print(\"Name is =\",self.name)\n",
        "        print(\"Staff Id is =\",self.Id)\n",
        "\n",
        "class Staff(Person):\n",
        "    def __init__(self, salary):\n",
        "        super().__init__()\n",
        "        self.Id = id\n",
        "    def display(self):\n",
        "        super().display()\n",
        "        print(\"Staff Id is =\",self.Id)\n",
        "\n",
        "class Temporary_staff(Staff):\n",
        "    def __init__(self,name,Id,days,hoursworked):\n",
        "        super().__init__()\n",
        "        self.days=days\n",
        "        self.hoursworked=hoursworked\n",
        "    def Salary(self):\n",
        "        salary=days*hoursworked*150\n",
        "        return salary\n",
        "    def display(self):\n",
        "        super().display()\n",
        "        print(\"No. of Days =\",days)\n",
        "        print(\"No. of Hours Worked =\",hoursworked)\n",
        "        print(\"Total Salary =\" , self.Salary())\n",
        "\n",
        "name = input(\"Enter name: \")\n",
        "id_number = input(\"Enter ID: \")\n",
        "days = int(input(\"Enter number of days worked: \"))\n",
        "hours_per_day = int(input(\"Enter hours worked per day: \"))"
      ],
      "metadata": {
        "id": "AtZpRiVxwm3E",
        "colab": {
          "base_uri": "https://localhost:8080/"
        },
        "outputId": "2b506451-00c8-4cd4-d677-6e18d29f1b14"
      },
      "execution_count": null,
      "outputs": [
        {
          "name": "stdout",
          "output_type": "stream",
          "text": [
            "Enter name: Nanu\n",
            "Enter ID: 01098010\n",
            "Enter number of days worked: 25\n",
            "Enter hours worked per day: 8\n"
          ]
        }
      ]
    },
    {
      "cell_type": "code",
      "source": [
        "name = input(\"Enter name: \")\n",
        "id_number = input(\"Enter ID: \")\n",
        "days = int(input(\"Enter number of days worked: \"))\n",
        "hours_per_day = int(input(\"Enter hours worked per day: \"))\n",
        "\n",
        "staff = TemporaryStaff(name, id_number, days, hours_per_day)\n",
        "staff.display()"
      ],
      "metadata": {
        "colab": {
          "base_uri": "https://localhost:8080/",
          "height": 258
        },
        "id": "953QZ46SBqjY",
        "outputId": "d3419307-ad92-4a62-b7a5-654fb077065d"
      },
      "execution_count": null,
      "outputs": [
        {
          "name": "stdout",
          "output_type": "stream",
          "text": [
            "Enter name: Nanu\n",
            "Enter ID: 01098010\n",
            "Enter number of days worked: 26\n",
            "Enter hours worked per day: 8\n"
          ]
        },
        {
          "output_type": "error",
          "ename": "NameError",
          "evalue": "name 'TemporaryStaff' is not defined",
          "traceback": [
            "\u001b[0;31m---------------------------------------------------------------------------\u001b[0m",
            "\u001b[0;31mNameError\u001b[0m                                 Traceback (most recent call last)",
            "\u001b[0;32m<ipython-input-16-ccc6f63e63a1>\u001b[0m in \u001b[0;36m<cell line: 6>\u001b[0;34m()\u001b[0m\n\u001b[1;32m      4\u001b[0m \u001b[0mhours_per_day\u001b[0m \u001b[0;34m=\u001b[0m \u001b[0mint\u001b[0m\u001b[0;34m(\u001b[0m\u001b[0minput\u001b[0m\u001b[0;34m(\u001b[0m\u001b[0;34m\"Enter hours worked per day: \"\u001b[0m\u001b[0;34m)\u001b[0m\u001b[0;34m)\u001b[0m\u001b[0;34m\u001b[0m\u001b[0;34m\u001b[0m\u001b[0m\n\u001b[1;32m      5\u001b[0m \u001b[0;34m\u001b[0m\u001b[0m\n\u001b[0;32m----> 6\u001b[0;31m \u001b[0mstaff\u001b[0m \u001b[0;34m=\u001b[0m \u001b[0mTemporaryStaff\u001b[0m\u001b[0;34m(\u001b[0m\u001b[0mname\u001b[0m\u001b[0;34m,\u001b[0m \u001b[0mid_number\u001b[0m\u001b[0;34m,\u001b[0m \u001b[0mdays\u001b[0m\u001b[0;34m,\u001b[0m \u001b[0mhours_per_day\u001b[0m\u001b[0;34m)\u001b[0m\u001b[0;34m\u001b[0m\u001b[0;34m\u001b[0m\u001b[0m\n\u001b[0m\u001b[1;32m      7\u001b[0m \u001b[0mstaff\u001b[0m\u001b[0;34m.\u001b[0m\u001b[0mdisplay\u001b[0m\u001b[0;34m(\u001b[0m\u001b[0;34m)\u001b[0m\u001b[0;34m\u001b[0m\u001b[0;34m\u001b[0m\u001b[0m\n",
            "\u001b[0;31mNameError\u001b[0m: name 'TemporaryStaff' is not defined"
          ]
        }
      ]
    },
    {
      "cell_type": "code",
      "source": [
        "name = input(\"Enter name: \")\n",
        "id_number = input(\"Enter ID: \")\n",
        "days = int(input(\"Enter number of days worked: \"))\n",
        "hours_per_day = int(input(\"Enter hours worked per day: \"))\n",
        "\n",
        "# Assuming 'temporary_staff' class is the one you intended to use\n",
        "staff = temporary_staff(name, id_number, days, hours_per_day)  #Changed to temporary_staff instead of TemporaryStaff\n",
        "\n",
        "staff.display()  # This line might also cause an error if temporary_staff doesn't have a 'display' method"
      ],
      "metadata": {
        "colab": {
          "base_uri": "https://localhost:8080/",
          "height": 275
        },
        "id": "hn4XBhB7COhr",
        "outputId": "db4a998a-deb4-4351-a91a-4cffead65176"
      },
      "execution_count": null,
      "outputs": [
        {
          "name": "stdout",
          "output_type": "stream",
          "text": [
            "Enter name: Nanu\n",
            "Enter ID: 01098010\n",
            "Enter number of days worked: 26\n",
            "Enter hours worked per day: 8\n"
          ]
        },
        {
          "output_type": "error",
          "ename": "TypeError",
          "evalue": "temporary_staff.__init__() takes 2 positional arguments but 5 were given",
          "traceback": [
            "\u001b[0;31m---------------------------------------------------------------------------\u001b[0m",
            "\u001b[0;31mTypeError\u001b[0m                                 Traceback (most recent call last)",
            "\u001b[0;32m<ipython-input-18-f79bc36849e7>\u001b[0m in \u001b[0;36m<cell line: 7>\u001b[0;34m()\u001b[0m\n\u001b[1;32m      5\u001b[0m \u001b[0;34m\u001b[0m\u001b[0m\n\u001b[1;32m      6\u001b[0m \u001b[0;31m# Assuming 'temporary_staff' class is the one you intended to use\u001b[0m\u001b[0;34m\u001b[0m\u001b[0;34m\u001b[0m\u001b[0m\n\u001b[0;32m----> 7\u001b[0;31m \u001b[0mstaff\u001b[0m \u001b[0;34m=\u001b[0m \u001b[0mtemporary_staff\u001b[0m\u001b[0;34m(\u001b[0m\u001b[0mname\u001b[0m\u001b[0;34m,\u001b[0m \u001b[0mid_number\u001b[0m\u001b[0;34m,\u001b[0m \u001b[0mdays\u001b[0m\u001b[0;34m,\u001b[0m \u001b[0mhours_per_day\u001b[0m\u001b[0;34m)\u001b[0m  \u001b[0;31m#Changed to temporary_staff instead of TemporaryStaff\u001b[0m\u001b[0;34m\u001b[0m\u001b[0;34m\u001b[0m\u001b[0m\n\u001b[0m\u001b[1;32m      8\u001b[0m \u001b[0;34m\u001b[0m\u001b[0m\n\u001b[1;32m      9\u001b[0m \u001b[0mstaff\u001b[0m\u001b[0;34m.\u001b[0m\u001b[0mdisplay\u001b[0m\u001b[0;34m(\u001b[0m\u001b[0;34m)\u001b[0m  \u001b[0;31m# This line might also cause an error if temporary_staff doesn't have a 'display' method\u001b[0m\u001b[0;34m\u001b[0m\u001b[0;34m\u001b[0m\u001b[0m\n",
            "\u001b[0;31mTypeError\u001b[0m: temporary_staff.__init__() takes 2 positional arguments but 5 were given"
          ]
        }
      ]
    },
    {
      "cell_type": "code",
      "source": [
        "class Person:\n",
        "  def _init_(self,name):\n",
        "    self.name=name\n",
        "\n",
        "  def nameperson():\n",
        "    print(self.name)\n",
        "\n",
        "class staff(Person):\n",
        "  def _init_(self,id):\n",
        "    self.id=id;\n",
        "\n",
        "  def displayid(self):\n",
        "    print(self.id)\n",
        "\n",
        "class Temporary_staf(staff):\n",
        "  def _init_(self,days,hoursworked):\n",
        "    self.days= days;\n",
        "    self.hoursworked=hoursworked;\n",
        "  def salary(self):\n",
        "    self.salary=days+hoursworked*150\n",
        "  def display(self):\n",
        "    print(\"no of days\",days)\n",
        "    print(\"no of hours worked\",hoursworked)\n",
        "    print(\"total_salary\",self.salary)\n",
        "nme=input()\n",
        "id=int(input())\n",
        "days=int(input())\n",
        "hoursworked=int(input())\n",
        "temp=Temporary_staf(days,hoursworked)\n",
        "temp.display()"
      ],
      "metadata": {
        "colab": {
          "base_uri": "https://localhost:8080/"
        },
        "id": "DDPCkDAnCpzH",
        "outputId": "c6139904-0c22-4f01-84eb-84783e087af4"
      },
      "execution_count": null,
      "outputs": [
        {
          "name": "stdout",
          "output_type": "stream",
          "text": [
            "Nanu\n"
          ]
        }
      ]
    },
    {
      "cell_type": "code",
      "source": [],
      "metadata": {
        "id": "RGIcUMCTH1Tq"
      },
      "execution_count": null,
      "outputs": []
    }
  ]
}